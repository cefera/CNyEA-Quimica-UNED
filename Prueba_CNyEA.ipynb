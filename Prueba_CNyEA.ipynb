{
 "cells": [
  {
   "cell_type": "markdown",
   "id": "92269dc4",
   "metadata": {},
   "source": [
    "<img src=\"https://upload.wikimedia.org/wikipedia/commons/2/25/LogoUNED.jpg\" width=\"120\" height=\"120\" />\n",
    "\n",
    "# Cálculo Numérico y Estadística Aplicada\n",
    "\n",
    "\n",
    "## Grado en Química - UNED \n",
    "## Prueba de ejecución para la realización de la primera PEC\n",
    "\n",
    "\n",
    "Toda la documentación de la práctica se puede encontrar y descargar en: https://github.com/cefera/TecnicasExperimentalesIV-UNED/tree/main/2b_scat\n",
    "\n",
    "----------------------------------------------------------"
   ]
  },
  {
   "cell_type": "markdown",
   "id": "b7c05818",
   "metadata": {},
   "source": [
    "### Este es cuaderno de Jupyter para que compruebe que es capaz de ejecutar el tipo de programas que se presentarán en la primera Prueba de Evaluación Continua de la asignatura\n",
    "\n",
    "Para comenzar, lo primero hace falta que introduzca sus datos en la siguiente celda. Para ello, haga doble click en la celda y rellene los campos. Cuando lo haya hecho pulse <kbd>Shift</kbd>+<kbd>Enter</kbd>\n"
   ]
  },
  {
   "cell_type": "markdown",
   "id": "855d1a1b",
   "metadata": {},
   "source": [
    "> ---\n",
    "> - **NOMBRE:** \n",
    "> - **APELLIDOS:** \n",
    "> - **DNI:** \n",
    "> - **FECHA (dd/mm/aaaa):** \n",
    "> ---"
   ]
  },
  {
   "cell_type": "markdown",
   "id": "efc93b22",
   "metadata": {},
   "source": [
    "## Cómo ejecutar código y carga de librerías\n",
    "\n",
    "El primer paso consiste en cargar ciertas librerías que posteriormente utilizaremos. Para ello, hace falta ejecutar la celda que aparece a continuación. \n",
    "\n",
    "Cada celda ejecutable es precedida por **[ ]:**. Cuando la celda es ejecutada, aparece un número dentro del corchete **[ ]** o un símbolo de *Play*.\n",
    "\n",
    "Una celda se ejecuta pinchando en ella y pulsando  <kbd>Shift</kbd>+<kbd>Enter</kbd> o bien pasando el cursor por la celda y donde estaba el corchete **[ ]** aparecerá un botón de *Play* que al pincharlo ejecutara la celda.\n",
    "\n",
    "Ejecute la siguiente celda"
   ]
  },
  {
   "cell_type": "code",
   "execution_count": 2,
   "id": "ddf58ba3",
   "metadata": {},
   "outputs": [
    {
     "name": "stdout",
     "output_type": "stream",
     "text": [
      "Ahora las librerías están cargadas y disponibles para ser utilizadas\n"
     ]
    }
   ],
   "source": [
    "###########################################################################################\n",
    "#\n",
    "#   Librerias\n",
    "#\n",
    "###########################################################################################\n",
    "\n",
    "###########################################################################################\n",
    "#   Estas son las librerías que se van a emplear en este ejemplo\n",
    "#   Las librerías son códigos ya desarrollados por otras personas que podemos reutilizar\n",
    "###########################################################################################\n",
    "\n",
    "import numpy as np; # esta librería sirve contiene una gran cantidad de funciones de cálculo numérico\n",
    "import matplotlib.pyplot as plt # esta librería sirve para dibujar gráficas\n",
    "\n",
    "###########################################################\n",
    "#   Esta es la definición de un par de colores que vamos a utilizar\n",
    "jpac_blue, jpac_orange = \"#1F77B4\", \"#FF7F0E\";\n",
    "\n",
    "print('Ahora las librerías están cargadas y disponibles para ser utilizadas')"
   ]
  },
  {
   "cell_type": "markdown",
   "id": "033b9a37",
   "metadata": {},
   "source": [
    "Las siguientes líneas de código cargan unos datos calculados numéricamente.  Ejecute la siguiente celda:"
   ]
  },
  {
   "cell_type": "code",
   "execution_count": 4,
   "id": "466d9204",
   "metadata": {},
   "outputs": [
    {
     "name": "stdout",
     "output_type": "stream",
     "text": [
      "Los datos y un modelo que los interpola ya están disponibles\n"
     ]
    }
   ],
   "source": [
    "eta1data = np.array([ \n",
    "    [1.25, 0.072639575],  [1.50, 0.120815052], [1.75, 0.154865904],  [2.00, 0.180064348],\n",
    "    [2.25, 0.199377634],  [3.00, 0.236952649], [4.00, 0.263881756],  [5.00, 0.279376900],\n",
    "    [6.00, 0.289388945],  [7.00, 0.296372263], [8.00, 0.301513492],  [9.00, 0.305453471],\n",
    "    [10.00, 0.308567683], [20.00, 0.322153959] ]);\n",
    "xdata, ydata = eta1data[:,0], eta1data[:,1];\n",
    "#print('Estos datos proceden de un cálculo teórico del artículo Physics Letters B 392 (1997) 163')\n",
    "\n",
    "def eta1(c1,c2,c3,xi): return c1 + c2/xi + c3/(xi**3);\n",
    "eta_c1, eta_c2, eta_c3 = 0.33982850818945587, -0.3067759114272322, -0.04490416846795392;\n",
    "eta_x = np.linspace(1.,20,20)\n",
    "eta_y = [eta1(eta_c1,eta_c2,eta_c3,x) for x in eta_x]\n",
    "\n",
    "print('Los datos y un modelo que los reproduce ya están disponibles')"
   ]
  },
  {
   "cell_type": "markdown",
   "id": "e3a299f5",
   "metadata": {},
   "source": [
    "A continuación vamos a dibujar los datos y la curva del modelo que interpola reproduce los datos"
   ]
  },
  {
   "cell_type": "code",
   "execution_count": 7,
   "id": "fe356813",
   "metadata": {},
   "outputs": [
    {
     "data": {
      "image/png": "[encoded data removed]",
      "text/plain": [
       "<Figure size 360x360 with 1 Axes>"
      ]
     },
     "metadata": {
      "needs_background": "light"
     },
     "output_type": "display_data"
    }
   ],
   "source": [
    "fig = plt.figure(figsize=(5,5))\n",
    "plt.scatter(xdata,ydata, marker=\"s\", s=50, c=jpac_blue, label='Datos')\n",
    "plt.plot(eta_x,eta_y,'-', c=jpac_orange, label='Modelo')\n",
    "plt.xlabel(r'$x$',size=20); plt.ylabel(r'$y$',size=20);\n",
    "plt.legend(loc='lower right',ncol=1,frameon=True,fontsize=20)\n",
    "plt.show()"
   ]
  },
  {
   "cell_type": "markdown",
   "id": "265cae6b",
   "metadata": {},
   "source": [
    "Con esto se termina este cuaderno de Jupyter. Si ha sido capaz de ejecutarlo podrá ejecutar el cuaderno correspondiente a la primera PEC de la asignatura."
   ]
  },
  {
   "cell_type": "code",
   "execution_count": null,
   "id": "e781b9c8",
   "metadata": {},
   "outputs": [],
   "source": []
  }
 ],
 "metadata": {
  "kernelspec": {
   "display_name": "Python 3 (ipykernel)",
   "language": "python",
   "name": "python3"
  },
  "language_info": {
   "codemirror_mode": {
    "name": "ipython",
    "version": 3
   },
   "file_extension": ".py",
   "mimetype": "text/x-python",
   "name": "python",
   "nbconvert_exporter": "python",
   "pygments_lexer": "ipython3",
   "version": "3.8.11"
  }
 },
 "nbformat": 4,
 "nbformat_minor": 5
}
