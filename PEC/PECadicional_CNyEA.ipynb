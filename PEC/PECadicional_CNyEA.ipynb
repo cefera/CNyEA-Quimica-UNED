{
 "cells": [
  {
   "cell_type": "markdown",
   "id": "bc2354fb",
   "metadata": {},
   "source": [
    "<img src=\"https://upload.wikimedia.org/wikipedia/commons/2/25/LogoUNED.jpg\" width=\"120\" height=\"120\" />\n",
    "\n",
    "# Cálculo Numérico y Estadística Aplicada\n",
    "\n",
    "\n",
    "## Grado en Química - UNED \n",
    "## PEC adicional\n",
    "\n",
    "\n",
    "Toda la documentación de la práctica se puede encontrar y descargar en: https://github.com/cefera/CNyEA-Quimica-UNED\n",
    "\n",
    "Se recomienda leer la parte 1 de los apuntes de la asignatura y ejecutar el cuaderno de Jupyter <code>TestJuguete_CNyEA.ipynb</code> antes de ejecutar este cuaderno.\n",
    "\n",
    "En la actualidad exiten numerosas librerías para la resolución de numerosos problemas de cálculo numérico. En esta práctica vamos a aprender a utilizar algunas de dichas librerías que se encuentran implementadas en Python. A lo largo del cuaderno se proporcionan enlaces a la documentación de las librerías. Se recomienda consultarlos para la realización de la PEC.\n",
    "\n",
    "En esta PEC tendrá que rellenar con trozos de código los huecos señalados. Lea y siga las instrucciones que se van proporcionando a lo largo del cuaderno.\n",
    "\n",
    "----------------------------------------------------------\n",
    "\n",
    "Para comenzar, lo primero hace falta que introduzca sus datos en la siguiente celda. Para ello, haga doble click en la celda y rellene los campos. Cuando lo haya hecho pulse <kbd>Shift</kbd>+<kbd>Enter</kbd>"
   ]
  },
  {
   "cell_type": "markdown",
   "id": "1873a2ca",
   "metadata": {},
   "source": [
    "> ---\n",
    "> - **NOMBRE:** \n",
    "> - **APELLIDOS:** \n",
    "> - **DNI/NIE/No. PASAPORTE:**\n",
    "> - **No. de alumno de la UNED:**\n",
    "> - **FECHA (dd/mm/aaaa):** \n",
    "> ---"
   ]
  },
  {
   "cell_type": "markdown",
   "id": "9e978521",
   "metadata": {},
   "source": [
    "En la siguiente celda, se va a asignar su número de alumno de la UNED a la variable <code>uned</code>, para ello, sustituya los puntos suspensivos <code>...</code> en la siguiente celda por su número de alumno de la UNED y ejecute la celda pulsando pulse <kbd>Shift</kbd>+<kbd>Enter</kbd>."
   ]
  },
  {
   "cell_type": "code",
   "execution_count": null,
   "id": "e379f7c8",
   "metadata": {},
   "outputs": [],
   "source": [
    "uned = ..."
   ]
  },
  {
   "cell_type": "markdown",
   "id": "acd3904a",
   "metadata": {},
   "source": [
    "## Carga de librerías\n",
    "\n",
    "La siguiente celda carga todas las librerías y los datos que posteriormente utilizaremos. Ejecútela."
   ]
  },
  {
   "cell_type": "code",
   "execution_count": null,
   "id": "d0f8b39a",
   "metadata": {},
   "outputs": [],
   "source": [
    "###########################################################################################\n",
    "#\n",
    "#   Librerias\n",
    "#\n",
    "###########################################################################################\n",
    "\n",
    "###########################################################################################\n",
    "#   Estas son las librerías que se van a emplear en este ejemplo\n",
    "#   Las librerías son códigos ya desarrollados por otras personas que podemos reutilizar\n",
    "###########################################################################################\n",
    "\n",
    "import numpy as np; # esta librería contiene una gran cantidad de funciones de cálculo numérico\n",
    "import matplotlib.pyplot as plt # esta librería sirve para dibujar gráficas\n",
    "from scipy import linalg # descomposición LU\n",
    "from scipy import optimize # para newton y bisección\n",
    "import scipy.integrate as integrate # integracion\n",
    "\n",
    "###########################################################\n",
    "#   Esta es la definición de un par de colores que vamos a utilizar posteriormente en las figuras\n",
    "jpac_blue   = \"#1F77B4\"; jpac_red    = \"#D61D28\"; jpac_green  = \"#2CA02C\"; jpac_orange = \"#FF7F0E\";\n",
    "jpac_purple = \"#9467BD\"; jpac_brown  = \"#8C564B\"; jpac_pink   = \"#E377C2\"; jpac_gold   = \"#BCBD22\";\n",
    "jpac_aqua   = \"#17BECF\"; jpac_grey   = \"#7F7F7F\";\n",
    "\n",
    "jpac_color = [jpac_blue, jpac_red, jpac_green, jpac_orange, jpac_purple, jpac_brown,\n",
    "              jpac_pink, jpac_gold, jpac_aqua, jpac_grey ];\n",
    "\n",
    "#generacion de los numeros a utilizar\n",
    "rng = np.random.default_rng(uned);\n",
    "#print(rng)\n",
    "\n",
    "# Matrices\n",
    "def construir_matriz(n,nmin,nmax):\n",
    "    tamano = int(n*(n+1)/2)\n",
    "    rints = rng.integers(low=nmin, high=nmax, size=tamano)\n",
    "    intsg = rng.binomial(1, 0.5, size=tamano)\n",
    "    intsg = np.where(intsg == 0, -1, intsg)\n",
    "    A = np.zeros((n,n),dtype='int')\n",
    "    punto = 0\n",
    "    for i in np.arange(n):\n",
    "        A [i,i] = intsg[punto]*rints[punto]\n",
    "        punto = punto + 1\n",
    "        for j in np.arange(i+1,n):\n",
    "            A [i,j] = intsg[punto]*rints[punto]\n",
    "            A [j,i] = A[i,j]\n",
    "            punto = punto + 1\n",
    "    return A\n",
    "\n",
    "Asize, Amin, Amax = 4, 1, 10; rechazado = True\n",
    "while (rechazado):\n",
    "    Ainput = construir_matriz(Asize,Amin,Amax)\n",
    "    if np.linalg.det(Ainput)!=0:\n",
    "        rechazado = False\n",
    "\n",
    "binput = np.transpose(rng.integers(low=Amin, high=Amax, size=Asize))\n",
    "\n",
    "# Datos para interpolar\n",
    "def construir_datos(n,xmin,xmax):\n",
    "    x = np.linspace(xmin,xmax,n)\n",
    "    y = 10.*rng.random(x.size)\n",
    "    return x,y\n",
    "\n",
    "def construir_polinomio(n,nmin,nmax):\n",
    "    rints = rng.integers(low=nmin, high=nmax, size=n)\n",
    "    intsg = rng.binomial(1, 0.5, size=n)\n",
    "    intsg = np.where(intsg == 0, -1, intsg)\n",
    "    return np.array(intsg*rints)\n",
    "\n",
    "ndatos = 6\n",
    "xinput, yinput = construir_datos(ndatos,1.,11.)\n",
    "\n",
    "# Polinomio para resolución de ecuaciones no lineales\n",
    "qroots = rng.integers(low=-10, high=10, size=3)\n",
    "qpol = np.polynomial.polynomial.Polynomial.fromroots(qroots)\n",
    "qcoef = np.flip(qpol.coef)\n",
    "qpol = np.poly1d(qcoef)\n",
    "       \n",
    "print('Ahora las librerías y los datos están cargados y disponibles para ser utilizados')"
   ]
  },
  {
   "cell_type": "markdown",
   "id": "42c72fc7",
   "metadata": {},
   "source": [
    "Hemos cargado cinco librerías que utilizaremos a lo largo de la PEC: <code>numpy</code> con el alias <code>np</code>, <code>matplotlib.pyplot</code> con el alias <code>plt</code>, <code>scipy.linalg</code> con el alias <code>linalg</code>, <code>scipy.optimize</code> con el alias <code>optimize</code> y <code>scipy.integrate</code> con el alias <code>integrate</code>\n",
    "\n",
    "En primer lugar vamos a realizar un cálculo sencillo. El coseno de $\\pi$. Para ello vamos a utilizar la función <code>cos</code> de <code>numpy</code> y el número $\\pi$ que está almacenado en la variable <code>pi</code> de la misma libreria. Por ello, si queremos calcular $\\cos \\pi$ la línea de código a escribir será <code>np.cos(np.pi)</code>. Sustituya los puntos suspensivos <code>...</code> en la siguiente celda por <code>np.cos(np.pi)</code> y ejecútela."
   ]
  },
  {
   "cell_type": "code",
   "execution_count": null,
   "id": "7460a1a0",
   "metadata": {},
   "outputs": [],
   "source": [
    "..."
   ]
  },
  {
   "cell_type": "markdown",
   "id": "b2cd86aa",
   "metadata": {},
   "source": [
    "**En el resto de la práctica se le solicitará que sustituya conjuntos de puntos suspensivos <code>...</code> por el código apropiado tal y como acaba de hacer.**\n",
    "\n",
    "Vamos a comenzar con la resolución de sistemas de ecuaciones."
   ]
  },
  {
   "cell_type": "markdown",
   "id": "3240ecdc",
   "metadata": {},
   "source": [
    "## Sistemas de ecuaciones\n",
    "\n",
    "Ejecute la siguiente celda."
   ]
  },
  {
   "cell_type": "code",
   "execution_count": null,
   "id": "8ee3e976",
   "metadata": {},
   "outputs": [],
   "source": [
    "print('Primero se va a trabajar con sistemas de ecuaciones.')\n",
    "print('Supongamos un sistema de ecuaciones lineales dado por la siguiente matriz A simétrica:')\n",
    "print('A=',Ainput)\n",
    "print('Y por el siguiente vector b:')\n",
    "for i in range(Asize):\n",
    "    if i==0:\n",
    "        print('b=[',binput[i])\n",
    "    elif i==Asize-1:\n",
    "        print('   ',binput[i],']')\n",
    "    else:\n",
    "        print('   ',binput[i])"
   ]
  },
  {
   "cell_type": "markdown",
   "id": "db682ac3",
   "metadata": {},
   "source": [
    "Vamos a calcular la factorización $LU$ y a diagonalizar la matriz $A$\n",
    "\n",
    "En primer lugar defina la matriz $A$ y el vector $b$. Para ello ha de utilizar la función <code>array</code> de <code>numpy</code> cuya documentación puede encontrar en https://numpy.org/doc/stable/reference/generated/numpy.array.html#numpy.array. Rellene los huecos <code>...</code> de la siguiente celda con los valores de $A$ y $b$ dados en la celda anterior."
   ]
  },
  {
   "cell_type": "code",
   "execution_count": null,
   "id": "15ebd725",
   "metadata": {},
   "outputs": [],
   "source": [
    "A = np.array([ ... ] );\n",
    "b = np.array([ ... ] );\n",
    "print('Comprobamos que A está correctamente definido imprimiendolo en pantalla')\n",
    "print('A =',A)\n",
    "print('Comprobamos que b está correctamente definido imprimiendolo en pantalla (aparece transpuesto, eso está bien)')\n",
    "print('b =',b)"
   ]
  },
  {
   "cell_type": "markdown",
   "id": "3439084a",
   "metadata": {},
   "source": [
    "#### Factorización $LU$\n",
    "\n",
    "Para calcular la factorización LU sólo hay que utilizar la función de <code>scipy.linalg.lu</code> documentada en https://docs.scipy.org/doc/scipy/reference/generated/scipy.linalg.lu.html En concreto el código a escribir sería:\n",
    "\n",
    "<code>P, L, U = linalg.lu(A)</code>\n",
    "\n",
    "Nótese que se escribe <code>linalg.lu</code> para invocar la función en lugar de <code>scipy.linalg.lu</code>. Piense por qué eso es así. Entenderlo le será muy útil en lo que resta de PEC.\n",
    "\n",
    "Calcule la descomposición LU de la matriz A en la siguiente celda e imprima en pantalla los resultados:"
   ]
  },
  {
   "cell_type": "code",
   "execution_count": null,
   "id": "eaff5be0",
   "metadata": {},
   "outputs": [],
   "source": [
    "P, L, U = ...\n",
    "print(P)\n",
    "print(L)\n",
    "print(U)"
   ]
  },
  {
   "cell_type": "markdown",
   "id": "ab27fe67",
   "metadata": {},
   "source": [
    "A continuación compruebe que la factorización es correcta y se cumple:\n",
    "$$L U = A$$\n",
    "\n",
    "Para ello, puede hacer uso de la función de multiplicación de matrices de <code>numpy</code> llamada <code>matmul</code> https://numpy.org/doc/stable/reference/generated/numpy.matmul.html Imprima el resultado en pantalla"
   ]
  },
  {
   "cell_type": "code",
   "execution_count": null,
   "id": "d36ac144",
   "metadata": {},
   "outputs": [],
   "source": [
    "A = ...\n",
    "print(A)"
   ]
  },
  {
   "cell_type": "markdown",
   "id": "605e90dd",
   "metadata": {},
   "source": [
    "La factorización $LU$ se puede explotar para resolver el sistema\n",
    "$$Ax=b$$\n",
    "Sin embargo, es más directo resolver el sistema utilizando la librería <code>solve</code> de <code>scipy.linalg</code> https://docs.scipy.org/doc/scipy/reference/generated/scipy.linalg.solve.html. Hágalo en la siguiente celda"
   ]
  },
  {
   "cell_type": "code",
   "execution_count": null,
   "id": "7aae49bf",
   "metadata": {},
   "outputs": [],
   "source": [
    "X = ...\n",
    "print(X)"
   ]
  },
  {
   "cell_type": "markdown",
   "id": "87ede903",
   "metadata": {},
   "source": [
    "#### Diagonalización\n",
    "\n",
    "A continuación realice la diagonalización de $A$ calculando los autovalores y los autovectores usando la librería <code>eig</code> de <code>numpy</code> https://numpy.org/doc/stable/reference/generated/numpy.linalg.eig.html"
   ]
  },
  {
   "cell_type": "code",
   "execution_count": null,
   "id": "215a9621",
   "metadata": {},
   "outputs": [],
   "source": [
    "w, v = ...\n",
    "print('Autovalores= ',w)\n",
    "print('Autovectores= ',v)"
   ]
  },
  {
   "cell_type": "markdown",
   "id": "6bb8a3c7",
   "metadata": {},
   "source": [
    "## Interpolación\n",
    "\n",
    "En el cuaderno <code>TestJuguete_CNyEA.ipynb</code> se proporciona el código para reproducir la Figura 3.2 de los apuntes (ejecute la siguiente celda):"
   ]
  },
  {
   "cell_type": "code",
   "execution_count": null,
   "id": "70863e69",
   "metadata": {},
   "outputs": [],
   "source": [
    "print('Copie y pegue dicho código en la siguiente celda y modifíquelo para')\n",
    "print('obtener los resultados de la Figura 3.2 con los siguientes')\n",
    "print('pares de puntos (x,y):')\n",
    "for i in range(ndatos):\n",
    "    print('(',xinput[i],',',yinput[i],')')\n",
    "print('con un polinomio de grado:',yinput.size-1)\n",
    "print('y calcule el valor en x=6')\n",
    "print('calcule también el valor en x=6 si se interpola linealmente entre los puntos x=5 y x=7')\n"
   ]
  },
  {
   "cell_type": "code",
   "execution_count": null,
   "id": "83c2bf31",
   "metadata": {},
   "outputs": [],
   "source": [
    "# sustituya los puntos suspensivos por el código adecuado\n",
    "\n",
    "..."
   ]
  },
  {
   "cell_type": "markdown",
   "id": "2782536e",
   "metadata": {},
   "source": [
    "## Resolución de ecuaciones no lineales\n",
    "\n",
    "El paso siguiente es resolver una ecuación no lineal aplicando el método de la bisección. La ecuación elegida es:\n",
    "$$q(x)=0$$\n",
    "donde $q(x)$ es un polinomio que fue generado al principio del cuaderno y cuyos coeficientes están almacenados en  <code>qpol</code>. Para calcular las raices de un polinomio, <code>numpy</code> tiene la función <code>roots</code> https://numpy.org/doc/stable/reference/generated/numpy.roots.html#numpy.roots Calcule en la siguiente celda las raices de dicho polinomio utilizando este procedimiento."
   ]
  },
  {
   "cell_type": "code",
   "execution_count": null,
   "id": "4175a0cd",
   "metadata": {},
   "outputs": [],
   "source": [
    "..."
   ]
  },
  {
   "cell_type": "markdown",
   "id": "d46d6f8c",
   "metadata": {},
   "source": [
    "La solución han de ser raices reales. Esta función <code>roots</code> se puede utilizar porque queremos las raices de un polinomio, pero nos interesa resolver casos más generales y para ello vamos a aprender a usar los métodos de la bisección y de Newton, lo cuál es inmediato utilizando las funciones <code>bisect</code> https://docs.scipy.org/doc/scipy/reference/generated/scipy.optimize.bisect.html#scipy.optimize.bisect de la librería <code>scipy.optimize</code> que hemos cargado con el alias <code>optimize</code>. Para obtener una raiz del polinomio anterior utilizando el método de la bisección, ejecute la siguiente celda:"
   ]
  },
  {
   "cell_type": "code",
   "execution_count": null,
   "id": "e029ecc5",
   "metadata": {},
   "outputs": [],
   "source": [
    "def f(x):\n",
    "    return np.polyval(qpol,x);\n",
    "\n",
    "raiz = optimize.bisect(f, -10.,10.)\n",
    "print(raiz)"
   ]
  },
  {
   "cell_type": "markdown",
   "id": "a709d1b5",
   "metadata": {},
   "source": [
    "Donde <code>f</code> es la función (el polinomio en este caso) del que queremos obtener la raiz, y  <code>-10.,10.</code> definen el rango en el que vamos a buscar la raiz. Este método sólo proporciona una raiz. Calcule la(s) demás en la siguiente celda utilizando el mismo método:"
   ]
  },
  {
   "cell_type": "code",
   "execution_count": null,
   "id": "bbd50d20",
   "metadata": {},
   "outputs": [],
   "source": [
    "raiz = ...\n",
    "print(raiz)\n",
    "raiz = ...\n",
    "print(raiz)"
   ]
  },
  {
   "cell_type": "markdown",
   "id": "827f551e",
   "metadata": {},
   "source": [
    "## Derivación e integración numérica\n",
    "\n",
    "Vamos a derivar y a integrar numéricamente el polinomio que hemos utilizado en el ejercicio de interpolación. Para ello vamos a emplear las funciones <code>gradient</code> de <code>numpy</code> para derivar https://numpy.org/doc/stable/reference/generated/numpy.gradient.html y <code>scipy.integrate</code> cargada con el alias <code>integrate</code> para integrar https://docs.scipy.org/doc/scipy/tutorial/integrate.html."
   ]
  },
  {
   "cell_type": "markdown",
   "id": "3f7e1baa",
   "metadata": {},
   "source": [
    "### Derivación\n",
    "\n",
    "Rellene los huecos <code>...</code> y ejecute la celda"
   ]
  },
  {
   "cell_type": "code",
   "execution_count": null,
   "id": "2f7599af",
   "metadata": {},
   "outputs": [],
   "source": [
    "x_para_gradiente = np.linspace(1.,10.,100)\n",
    "y_para_gradiente = np.array([ ... for i in x_para_gradiente])\n",
    "derivada = ...\n",
    "\n",
    "fig = plt.figure(figsize=(5, 5))\n",
    "plt.plot(x_para_gradiente,y_para_gradiente,c=jpac_color[3],label='Funcion')\n",
    "plt.plot(x_para_gradiente,derivada,'--',c=jpac_color[1],label='Derivada')\n",
    "plt.legend(loc='upper left')\n",
    "plt.show()"
   ]
  },
  {
   "cell_type": "markdown",
   "id": "636f6063",
   "metadata": {},
   "source": [
    "### Integración\n",
    "\n",
    "Primero hay que definir el integrando. En nuestro caso el polinomio $p(x)$."
   ]
  },
  {
   "cell_type": "code",
   "execution_count": null,
   "id": "8281fcf6",
   "metadata": {},
   "outputs": [],
   "source": [
    "def integrando(x):\n",
    "    return np.polyval(qpol,x);"
   ]
  },
  {
   "cell_type": "markdown",
   "id": "5fe90df2",
   "metadata": {},
   "source": [
    "Y para integrar vamos a utilizar la función <code>integrate.quad</code> para integrar $p(x)$ entre 5 y 7, la cuál proporciona dos valores, el resultado de la integral y el error numérico. Complete la siguiente celda rellenado los huecos <code>...</code> y ejecute:"
   ]
  },
  {
   "cell_type": "code",
   "execution_count": null,
   "id": "8dc1a1df",
   "metadata": {},
   "outputs": [],
   "source": [
    "I, error = ...\n",
    "print('Valor de la integral=',I)\n",
    "print('Error numérico=',error)"
   ]
  },
  {
   "cell_type": "markdown",
   "id": "0ac5e8af",
   "metadata": {},
   "source": [
    "**Con esto se termina la PEC adicional de la asignatura.**\n",
    "\n",
    "**Proceda a imprimirla. En Binder vaya al menú File arriba a la izquierda y seleccione Print. Se debería generar un pdf con toda la práctica. A continuación, suba el pdf antes del XXXX al apartado de tareas con el epígrafe \"XXXXXX\" del aLF**"
   ]
  },
  {
   "cell_type": "code",
   "execution_count": null,
   "id": "4ac574c6",
   "metadata": {},
   "outputs": [],
   "source": []
  }
 ],
 "metadata": {
  "kernelspec": {
   "display_name": "Python 3 (ipykernel)",
   "language": "python",
   "name": "python3"
  },
  "language_info": {
   "codemirror_mode": {
    "name": "ipython",
    "version": 3
   },
   "file_extension": ".py",
   "mimetype": "text/x-python",
   "name": "python",
   "nbconvert_exporter": "python",
   "pygments_lexer": "ipython3",
   "version": "3.8.11"
  }
 },
 "nbformat": 4,
 "nbformat_minor": 5
}
