{
 "cells": [
  {
   "cell_type": "markdown",
   "id": "92269dc4",
   "metadata": {},
   "source": [
    "<img src=\"https://upload.wikimedia.org/wikipedia/commons/2/25/LogoUNED.jpg\" width=\"120\" height=\"120\" />\n",
    "\n",
    "# Cálculo Numérico y Estadística Aplicada\n",
    "\n",
    "\n",
    "## Grado en Química - UNED \n",
    "\n",
    "## Test de ejecución ''de juguete'' para la realización de la Prueba Evaluable de Cálculo Numérico (PEdCN). Su entrega  no tiene valor en la calificación y se realiza para que el estudiante se familiarize con el entorno de ejecición que se empleará ne la realización de la PEC adicional de la asignatura.\n",
    "\n",
    "\n",
    "Toda la documentación de la práctica se puede encontrar y descargar en: https://github.com/cefera/CNyEA-Quimica-UNED\n",
    "\n",
    "Se recomienda leer la parte 1 de los apuntes de la asignatura antes de ejecutar este cuaderno.\n",
    "\n",
    "----------------------------------------------------------\n",
    "\n",
    "Para comenzar, lo primero hace falta que introduzca sus datos en la siguiente celda. Para ello, haga doble click en la celda y rellene los campos. Cuando lo haya hecho pulse <kbd>Shift</kbd>+<kbd>Enter</kbd>\n"
   ]
  },
  {
   "cell_type": "markdown",
   "id": "855d1a1b",
   "metadata": {},
   "source": [
    "> ---\n",
    "> - **NOMBRE:** \n",
    "> - **APELLIDOS:** \n",
    "> - **DNI/NIE/No. PASAPORTE:**\n",
    "> - **No. de alumno de la UNED:**\n",
    "> - **FECHA (dd/mm/aaaa):** \n",
    "> ---"
   ]
  },
  {
   "cell_type": "markdown",
   "id": "e6a2b5a2",
   "metadata": {},
   "source": [
    "## Cómo ejecutar código y carga de librerías\n",
    "\n",
    "El primer paso consiste en cargar ciertas librerías que posteriormente utilizaremos. Para ello, hace falta ejecutar la celda que aparece a continuación. \n",
    "\n",
    "Cada celda ejecutable es precedida por **[ ]:**. Cuando la celda es ejecutada, aparece un número dentro del corchete **[ ]** o un símbolo de *Play*.\n",
    "\n",
    "Una celda se ejecuta pinchando en ella y pulsando  <kbd>Shift</kbd>+<kbd>Enter</kbd> o bien pasando el cursor por la celda y donde estaba el corchete **[ ]** aparecerá un botón de *Play* que al pincharlo ejecutara la celda.\n",
    "\n",
    "Ejecute la siguiente celda"
   ]
  },
  {
   "cell_type": "code",
   "execution_count": 1,
   "id": "ddf58ba3",
   "metadata": {},
   "outputs": [
    {
     "name": "stdout",
     "output_type": "stream",
     "text": [
      "Ahora las librerías están cargadas y disponibles para ser utilizadas\n"
     ]
    }
   ],
   "source": [
    "###########################################################################################\n",
    "#\n",
    "#   Librerias\n",
    "#\n",
    "###########################################################################################\n",
    "\n",
    "###########################################################################################\n",
    "#   Estas son las librerías que se van a emplear en este ejemplo\n",
    "#   Las librerías son códigos ya desarrollados por otras personas que podemos reutilizar\n",
    "###########################################################################################\n",
    "\n",
    "import numpy as np; # esta librería contiene una gran cantidad de funciones de cálculo numérico\n",
    "import matplotlib.pyplot as plt # esta librería sirve para dibujar gráficas\n",
    "\n",
    "###########################################################\n",
    "#   Esta es la definición de un par de colores que vamos a utilizar posteriormente en las figuras\n",
    "jpac_blue   = \"#1F77B4\"; jpac_red    = \"#D61D28\";\n",
    "jpac_green  = \"#2CA02C\"; jpac_orange = \"#FF7F0E\";\n",
    "jpac_purple = \"#9467BD\"; jpac_brown  = \"#8C564B\";\n",
    "jpac_pink   = \"#E377C2\"; jpac_gold   = \"#BCBD22\";\n",
    "jpac_aqua   = \"#17BECF\"; jpac_grey   = \"#7F7F7F\";\n",
    "\n",
    "jpac_color = [jpac_blue, jpac_red, jpac_green, \n",
    "              jpac_orange, jpac_purple, jpac_brown,\n",
    "              jpac_pink, jpac_gold, jpac_aqua, jpac_grey ];\n",
    "\n",
    "print('Ahora las librerías están cargadas y disponibles para ser utilizadas')"
   ]
  },
  {
   "cell_type": "markdown",
   "id": "80dc80fd",
   "metadata": {},
   "source": [
    "Hemos cargado dos librerías: la librería <code>numpy</code> con el alias <code>np</code> y la librería <code>matplotlib.pyplot</code> con el alias <code>plt</code>\n",
    "\n",
    "Por ejemplo, supongamos que queremos calcular el seno de 0.1. La librería <code>numpy</code> contiene una función para calcular senos denominada <code>sin</code> (la información sobre la función se puede encontrar en https://numpy.org/doc/stable/reference/generated/numpy.sin.html). Como hemos cargado <code>numpy</code> podemos hacer uso de dicha función simplemente escribiendo <code>np.sin</code> (<code>np</code> porque es el alias que hemos elegido para <code>numpy</code> y <code>sin</code> porque es el nombre de la función). Por tanto, para calcular el seno de 0.1 sólo habrá que escribir <code>np.sin(0.1)</code>.\n",
    "\n",
    "Ejecute la siguiente celda:"
   ]
  },
  {
   "cell_type": "code",
   "execution_count": 2,
   "id": "608860ba",
   "metadata": {},
   "outputs": [
    {
     "data": {
      "text/plain": [
       "0.09983341664682815"
      ]
     },
     "execution_count": 2,
     "metadata": {},
     "output_type": "execute_result"
    }
   ],
   "source": [
    "np.sin(0.1)"
   ]
  },
  {
   "cell_type": "markdown",
   "id": "96fdc0a0",
   "metadata": {},
   "source": [
    "Otro ejemplo sencillo es la solución del Ejercicio 1.2 de parte 1 de los apuntes de la asignatura que se muestra a continuación. Ejecute la siguiente celda:"
   ]
  },
  {
   "cell_type": "code",
   "execution_count": 3,
   "id": "53c784f9",
   "metadata": {},
   "outputs": [
    {
     "name": "stdout",
     "output_type": "stream",
     "text": [
      "a es divisible entre 2 y 3\n"
     ]
    }
   ],
   "source": [
    "a = 24\n",
    "if a%2==0:\n",
    "    if a%3==0:\n",
    "        print(\"a es divisible entre 2 y 3\")\n",
    "    else:\n",
    "        print(\"a es divisible entre 2 \")\n",
    "elif a%3==0:\n",
    "    print(\"a es divisible entre 3\")\n",
    "else:\n",
    "    print(\"a no es divisible ni entre 2 ni entre 3\")"
   ]
  },
  {
   "cell_type": "markdown",
   "id": "0698982b",
   "metadata": {},
   "source": [
    "Las siguientes líneas de código cargan unos datos calculados numéricamente a partir de un modelo.  Ejecute la siguiente celda:"
   ]
  },
  {
   "cell_type": "code",
   "execution_count": 4,
   "id": "466d9204",
   "metadata": {},
   "outputs": [
    {
     "name": "stdout",
     "output_type": "stream",
     "text": [
      "Los datos y un modelo que los reproduce ya están disponibles\n"
     ]
    }
   ],
   "source": [
    "eta1data = np.array([ \n",
    "    [1.25, 0.072639575],  [1.50, 0.120815052], [1.75, 0.154865904],  [2.00, 0.180064348],\n",
    "    [2.25, 0.199377634],  [3.00, 0.236952649], [4.00, 0.263881756],  [5.00, 0.279376900],\n",
    "    [6.00, 0.289388945],  [7.00, 0.296372263], [8.00, 0.301513492],  [9.00, 0.305453471],\n",
    "    [10.00, 0.308567683], [20.00, 0.322153959] ]);\n",
    "xdata, ydata = eta1data[:,0], eta1data[:,1];\n",
    "#print('Estos datos proceden de un cálculo teórico del artículo Physics Letters B 392 (1997) 163')\n",
    "\n",
    "def eta1(c1,c2,c3,xi): return c1 + c2/xi + c3/(xi**3);\n",
    "eta_c1, eta_c2, eta_c3 = 0.33982850818945587, -0.3067759114272322, -0.04490416846795392;\n",
    "eta_x = np.linspace(1.,20,20)\n",
    "eta_y = [eta1(eta_c1,eta_c2,eta_c3,x) for x in eta_x]\n",
    "\n",
    "print('Los datos y un modelo que los reproduce ya están disponibles')"
   ]
  },
  {
   "cell_type": "markdown",
   "id": "6b0265c0",
   "metadata": {},
   "source": [
    "Como puede ver hemos hecho uso de las funciones de <code>numpy</code>: <code>array</code> (<code>np.array</code>, https://numpy.org/doc/stable/reference/generated/numpy.array.html) y <code>linspace</code> (<code>np.linspace</code>, https://numpy.org/doc/stable/reference/generated/numpy.linspace.html) así como de la definición de una función <code>eta1</code> y un bucle <code>for</code> escrito en forma compacta.\n",
    "\n",
    "A continuación vamos a dibujar los datos y la curva del modelo que reproduce los datos haciendo uso de la librería <code>matplotlib.pyplot</code> que hemos cargado con el alias <code>plt</code>. Cada línea contiene un comentario explicando qué hace. Ejecute la siguiente celda:"
   ]
  },
  {
   "cell_type": "code",
   "execution_count": 5,
   "id": "fe356813",
   "metadata": {},
   "outputs": [
    {
     "data": {
      "image/png": "[encoded data removed]",
      "text/plain": [
       "<Figure size 500x500 with 1 Axes>"
      ]
     },
     "metadata": {},
     "output_type": "display_data"
    }
   ],
   "source": [
    "fig = plt.figure(figsize=(5,5)) # Define la figura\n",
    "plt.scatter(xdata,ydata, marker=\"s\", s=50, c=jpac_blue, label='Datos') # Dibuja los datos\n",
    "plt.plot(eta_x,eta_y,'-', c=jpac_orange, label='Modelo') # Dibuja el modelo\n",
    "plt.xlabel(r'$x$',size=20); plt.ylabel(r'$y$',size=20); # Dibuja las etiquetas de los ejes\n",
    "plt.legend(loc='lower right',ncol=1,frameon=True,fontsize=20) # Dibuja la leyenda de la figura\n",
    "plt.show() # Muestra la figura"
   ]
  },
  {
   "cell_type": "markdown",
   "id": "033d7438",
   "metadata": {},
   "source": [
    "Unos ejemplos más elaborados son los presentados en el capítulo de interpolación polinómica de los apuntes de la asignatura y cuyo código se muestra a continuación. Ejecute la siguiente celda:"
   ]
  },
  {
   "cell_type": "code",
   "execution_count": 6,
   "id": "89e6908e",
   "metadata": {},
   "outputs": [
    {
     "name": "stdout",
     "output_type": "stream",
     "text": [
      "Vamos a interpolar los puntos (x,y)\n",
      "( 2 , 2 )\n",
      "( 4 , 5 )\n",
      "( 6 , 4 )\n",
      "( 8 , 7 )\n",
      "y obtener el valor y=f(x)=f( 3 )\n",
      " \n",
      "Resultado de la interpolación usando nuestra implementación del algoritmo de Neville:\n",
      "y=f( 3 )= 4.5\n",
      "Resultado de la interpolación usando la librería numpy:\n",
      "y=f( 3 )= 4.500000000000028\n",
      "--------------------------------------------------\n",
      "La siguiente figura es una variación de la Figura 3.2\n",
      "de la sección sobre interpolación polinómica de la parte 1 de los apuntes\n"
     ]
    },
    {
     "data": {
      "image/png": "[encoded data removed]",
      "text/plain": [
       "<Figure size 500x500 with 1 Axes>"
      ]
     },
     "metadata": {},
     "output_type": "display_data"
    }
   ],
   "source": [
    "def interpolacion_polinomica_Neville(xa,ya,x):\n",
    "    n = len(xa)\n",
    "    p = n*[0]\n",
    "    for k in range(n):\n",
    "        for i in range(n-k):\n",
    "            if k == 0:\n",
    "                p[i] = ya[i]\n",
    "            else:\n",
    "                p[i] = ((x-xa[i+k])*p[i]+(xa[i]-x)*p[i+1])/(xa[i]-xa[i+k])\n",
    "    return p[0]\n",
    "\n",
    "xa = np.array([2,4,6,8])\n",
    "ya = np.array([2,5,4,7])\n",
    "punto_a_calcular = 3\n",
    "pendiente = (ya[1] - ya[0] )/(xa[1]-xa[0]);\n",
    "ordenada = ya[0] - pendiente*xa[0];\n",
    "y = interpolacion_polinomica_Neville(xa,ya,punto_a_calcular)\n",
    "n = xa.size\n",
    "p = np.polyfit(xa,ya,n-1);\n",
    "print('Vamos a interpolar los puntos (x,y)')\n",
    "for i in range(n):\n",
    "    print('(',xa[i],',',ya[i],')')\n",
    "print('y obtener el valor y=f(x)=f(',punto_a_calcular,')')\n",
    "print(' ')\n",
    "print('Resultado de la interpolación usando nuestra implementación del algoritmo de Neville:')\n",
    "print('y=f(',punto_a_calcular,')=',y)\n",
    "print('Resultado de la interpolación usando la librería numpy:')\n",
    "print('y=f(',punto_a_calcular,')=',np.polyval(p,punto_a_calcular))\n",
    "print(50*'-')\n",
    "\n",
    "print('La siguiente figura es una variación de la Figura 3.2') \n",
    "print('de la sección sobre interpolación polinómica de la parte 1 de los apuntes')\n",
    "fig = plt.figure(figsize=(5, 5))\n",
    "x = np.linspace(1., 9.)\n",
    "y = np.polyval(p,x)\n",
    "xl = np.linspace(1., 5.)\n",
    "plineal = np.poly1d([pendiente,ordenada])\n",
    "yl = np.polyval(plineal,xl)\n",
    "plt.scatter(xa,ya, marker=\"o\", s=30, c=jpac_color[0], alpha=1,label='Datos',zorder=4)\n",
    "plt.plot(x,y,c=jpac_color[3],label='Polinomio interpolador')\n",
    "plt.plot(xl,yl,'--',c=jpac_color[1],label='Interpolación lineal')\n",
    "plt.scatter(punto_a_calcular,np.polyval(p,punto_a_calcular), marker=\"s\", s=30, c=jpac_color[4], alpha=1,zorder=2)\n",
    "plt.scatter(punto_a_calcular,np.polyval(plineal,punto_a_calcular), marker=\"s\", s=30, c=jpac_color[4], alpha=1,zorder=3)\n",
    "plt.vlines(punto_a_calcular,np.min(y),np.max(y),ls='dotted', color=jpac_color[4])\n",
    "plt.xlabel(r'$x$',size=20); plt.ylabel(r'$f(x)$',size=20);\n",
    "plt.show()\n"
   ]
  },
  {
   "cell_type": "markdown",
   "id": "85f1a420",
   "metadata": {},
   "source": [
    "**Con esto se termina este cuaderno de Jupyter. Si ha sido capaz de ejecutarlo podrá ejecutar el cuaderno correspondiente a la PEdCN de la asignatura.**\n",
    "\n",
    "**Proceda a imprimirla. En Binder vaya al menú File arriba a la izquierda y seleccione Print. Se debería generar un pdf con toda la práctica. A continuación, suba el pdf al apartado de tareas con el epígrafe \"Prueba de ejecución de Cálculo Numérico\" del aLF antes del 18 de noviembre de 2022. Se recuerda que este es un test de ejecución ''de juguete'' para la realización de la PEdCN. Su entrega no tiene valor en la calificación**"
   ]
  },
  {
   "cell_type": "code",
   "execution_count": null,
   "id": "66756812",
   "metadata": {},
   "outputs": [],
   "source": []
  }
 ],
 "metadata": {
  "kernelspec": {
   "display_name": "Python 3 (ipykernel)",
   "language": "python",
   "name": "python3"
  },
  "language_info": {
   "codemirror_mode": {
    "name": "ipython",
    "version": 3
   },
   "file_extension": ".py",
   "mimetype": "text/x-python",
   "name": "python",
   "nbconvert_exporter": "python",
   "pygments_lexer": "ipython3",
   "version": "3.9.12"
  },
  "vscode": {
   "interpreter": {
    "hash": "b0fa6594d8f4cbf19f97940f81e996739fb7646882a419484c72d19e05852a7e"
   }
  }
 },
 "nbformat": 4,
 "nbformat_minor": 5
}
